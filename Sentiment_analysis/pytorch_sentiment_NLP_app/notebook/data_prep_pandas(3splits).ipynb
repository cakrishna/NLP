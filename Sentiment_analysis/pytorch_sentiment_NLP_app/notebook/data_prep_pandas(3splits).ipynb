{
 "cells": [
  {
   "cell_type": "markdown",
   "id": "3833385a-ba54-47ef-bcf3-e54d4d96648e",
   "metadata": {},
   "source": [
    "# Data Preparation"
   ]
  },
  {
   "cell_type": "markdown",
   "id": "80e7473f-9077-45fa-9bc7-7df1ac01258c",
   "metadata": {},
   "source": [
    "### imports"
   ]
  },
  {
   "cell_type": "code",
   "execution_count": 1,
   "id": "a32b5c69-b8b2-4807-b6c5-d5ed3d237b7e",
   "metadata": {},
   "outputs": [],
   "source": [
    "import pandas as pd\n",
    "# from datasets import DatasetDict, Dataset"
   ]
  },
  {
   "cell_type": "markdown",
   "id": "2c799a68-36aa-4ecc-8c57-2becf92b38e2",
   "metadata": {},
   "source": [
    "### data prep"
   ]
  },
  {
   "cell_type": "code",
   "execution_count": 2,
   "id": "5281bffa-3d08-4d0d-adde-446536556d21",
   "metadata": {},
   "outputs": [
    {
     "data": {
      "text/html": [
       "<div>\n",
       "<style scoped>\n",
       "    .dataframe tbody tr th:only-of-type {\n",
       "        vertical-align: middle;\n",
       "    }\n",
       "\n",
       "    .dataframe tbody tr th {\n",
       "        vertical-align: top;\n",
       "    }\n",
       "\n",
       "    .dataframe thead th {\n",
       "        text-align: right;\n",
       "    }\n",
       "</style>\n",
       "<table border=\"1\" class=\"dataframe\">\n",
       "  <thead>\n",
       "    <tr style=\"text-align: right;\">\n",
       "      <th></th>\n",
       "      <th>labels</th>\n",
       "      <th>text</th>\n",
       "    </tr>\n",
       "  </thead>\n",
       "  <tbody>\n",
       "    <tr>\n",
       "      <th>0</th>\n",
       "      <td>neutral</td>\n",
       "      <td>virginamerica dhepburn say</td>\n",
       "    </tr>\n",
       "    <tr>\n",
       "      <th>1</th>\n",
       "      <td>positive</td>\n",
       "      <td>virginamerica plus add commercial experience t...</td>\n",
       "    </tr>\n",
       "    <tr>\n",
       "      <th>2</th>\n",
       "      <td>neutral</td>\n",
       "      <td>virginamerica not today must mean need take an...</td>\n",
       "    </tr>\n",
       "    <tr>\n",
       "      <th>3</th>\n",
       "      <td>negative</td>\n",
       "      <td>virginamerica really aggressive blast obnoxiou...</td>\n",
       "    </tr>\n",
       "    <tr>\n",
       "      <th>4</th>\n",
       "      <td>negative</td>\n",
       "      <td>virginamerica really big bad thing</td>\n",
       "    </tr>\n",
       "  </tbody>\n",
       "</table>\n",
       "</div>"
      ],
      "text/plain": [
       "     labels                                               text\n",
       "0   neutral                         virginamerica dhepburn say\n",
       "1  positive  virginamerica plus add commercial experience t...\n",
       "2   neutral  virginamerica not today must mean need take an...\n",
       "3  negative  virginamerica really aggressive blast obnoxiou...\n",
       "4  negative                 virginamerica really big bad thing"
      ]
     },
     "execution_count": 2,
     "metadata": {},
     "output_type": "execute_result"
    }
   ],
   "source": [
    "# data import\n",
    "df = pd.read_csv(\"./tidy_1000_tweets_noindex.csv\")\n",
    "# Cleanings\n",
    "# drop data\n",
    "df = df.dropna()\n",
    "df.head()"
   ]
  },
  {
   "cell_type": "code",
   "execution_count": 3,
   "id": "e15e0d1c-73c4-4371-b850-14f56fe5bad5",
   "metadata": {},
   "outputs": [
    {
     "data": {
      "text/html": [
       "<div>\n",
       "<style scoped>\n",
       "    .dataframe tbody tr th:only-of-type {\n",
       "        vertical-align: middle;\n",
       "    }\n",
       "\n",
       "    .dataframe tbody tr th {\n",
       "        vertical-align: top;\n",
       "    }\n",
       "\n",
       "    .dataframe thead th {\n",
       "        text-align: right;\n",
       "    }\n",
       "</style>\n",
       "<table border=\"1\" class=\"dataframe\">\n",
       "  <thead>\n",
       "    <tr style=\"text-align: right;\">\n",
       "      <th></th>\n",
       "      <th>text</th>\n",
       "      <th>labels</th>\n",
       "    </tr>\n",
       "  </thead>\n",
       "  <tbody>\n",
       "    <tr>\n",
       "      <th>0</th>\n",
       "      <td>virginamerica dhepburn say</td>\n",
       "      <td>neutral</td>\n",
       "    </tr>\n",
       "    <tr>\n",
       "      <th>1</th>\n",
       "      <td>virginamerica plus add commercial experience t...</td>\n",
       "      <td>positive</td>\n",
       "    </tr>\n",
       "    <tr>\n",
       "      <th>2</th>\n",
       "      <td>virginamerica not today must mean need take an...</td>\n",
       "      <td>neutral</td>\n",
       "    </tr>\n",
       "    <tr>\n",
       "      <th>3</th>\n",
       "      <td>virginamerica really aggressive blast obnoxiou...</td>\n",
       "      <td>negative</td>\n",
       "    </tr>\n",
       "    <tr>\n",
       "      <th>4</th>\n",
       "      <td>virginamerica really big bad thing</td>\n",
       "      <td>negative</td>\n",
       "    </tr>\n",
       "  </tbody>\n",
       "</table>\n",
       "</div>"
      ],
      "text/plain": [
       "                                                text    labels\n",
       "0                         virginamerica dhepburn say   neutral\n",
       "1  virginamerica plus add commercial experience t...  positive\n",
       "2  virginamerica not today must mean need take an...   neutral\n",
       "3  virginamerica really aggressive blast obnoxiou...  negative\n",
       "4                 virginamerica really big bad thing  negative"
      ]
     },
     "execution_count": 3,
     "metadata": {},
     "output_type": "execute_result"
    }
   ],
   "source": [
    "# swap columns\n",
    "balanced_df = df[['text', 'labels']]\n",
    "balanced_df.head()"
   ]
  },
  {
   "cell_type": "code",
   "execution_count": 4,
   "id": "d466c5d4-c722-4338-a1ec-8b7c81df9b2f",
   "metadata": {},
   "outputs": [
    {
     "data": {
      "text/html": [
       "<div>\n",
       "<style scoped>\n",
       "    .dataframe tbody tr th:only-of-type {\n",
       "        vertical-align: middle;\n",
       "    }\n",
       "\n",
       "    .dataframe tbody tr th {\n",
       "        vertical-align: top;\n",
       "    }\n",
       "\n",
       "    .dataframe thead th {\n",
       "        text-align: right;\n",
       "    }\n",
       "</style>\n",
       "<table border=\"1\" class=\"dataframe\">\n",
       "  <thead>\n",
       "    <tr style=\"text-align: right;\">\n",
       "      <th></th>\n",
       "      <th>text</th>\n",
       "      <th>labels</th>\n",
       "    </tr>\n",
       "  </thead>\n",
       "  <tbody>\n",
       "    <tr>\n",
       "      <th>0</th>\n",
       "      <td>virginamerica dhepburn say</td>\n",
       "      <td>1</td>\n",
       "    </tr>\n",
       "    <tr>\n",
       "      <th>1</th>\n",
       "      <td>virginamerica plus add commercial experience t...</td>\n",
       "      <td>2</td>\n",
       "    </tr>\n",
       "    <tr>\n",
       "      <th>2</th>\n",
       "      <td>virginamerica not today must mean need take an...</td>\n",
       "      <td>1</td>\n",
       "    </tr>\n",
       "    <tr>\n",
       "      <th>3</th>\n",
       "      <td>virginamerica really aggressive blast obnoxiou...</td>\n",
       "      <td>0</td>\n",
       "    </tr>\n",
       "    <tr>\n",
       "      <th>4</th>\n",
       "      <td>virginamerica really big bad thing</td>\n",
       "      <td>0</td>\n",
       "    </tr>\n",
       "  </tbody>\n",
       "</table>\n",
       "</div>"
      ],
      "text/plain": [
       "                                                text  labels\n",
       "0                         virginamerica dhepburn say       1\n",
       "1  virginamerica plus add commercial experience t...       2\n",
       "2  virginamerica not today must mean need take an...       1\n",
       "3  virginamerica really aggressive blast obnoxiou...       0\n",
       "4                 virginamerica really big bad thing       0"
      ]
     },
     "execution_count": 4,
     "metadata": {},
     "output_type": "execute_result"
    }
   ],
   "source": [
    "from sklearn.preprocessing import LabelEncoder\n",
    "labels = ['negative','neutral','positive']\n",
    "# Encode Categorical Columns\n",
    "le = LabelEncoder()\n",
    "# balanced_df[labels] = balanced_df[labels].apply(le.fit_transform)\n",
    "# le.fit_transform(balanced_df['labels'])\n",
    "balanced_df['labels']=le.fit_transform(balanced_df['labels'])\n",
    "balanced_df.head()\n"
   ]
  },
  {
   "cell_type": "code",
   "execution_count": 5,
   "id": "b07a5fe2-3817-4a88-96a1-3dc807e367d2",
   "metadata": {},
   "outputs": [],
   "source": [
    "\n",
    "# convert labels column to int\n",
    "balanced_df['labels'] = balanced_df['labels'].astype(int)\n",
    "\n",
    "# Shuffle the balanced dataset\n",
    "# balanced_df = balanced_df.sample(frac=1, random_state=42).reset_index(drop=True)"
   ]
  },
  {
   "cell_type": "raw",
   "id": "e5ec8ba8-e4e3-4d03-94eb-04be8797b023",
   "metadata": {},
   "source": [
    "# Cleanings\n",
    "# drop data\n",
    "# df = df.dropna()\n",
    "\n",
    "# create dataframes from each class\n",
    "\n",
    "df_negative = df[df['Label']==\"negative\"]\n",
    "df_neutral = df[df['Label']==\"neutral\"]\n",
    "df_positive = df[df['Label']==\"positive\"]\n",
    "\n",
    "# define number of samples to keep\n",
    "num_samples = 1500\n",
    "\n",
    "Sample min_size rows from each class to ensure a 50-50 split\n",
    "df_safe_sample = df_safe.sample(num_samples, random_state=42)\n",
    "df_not_safe_sample = df_not_safe.sample(num_samples, random_state=42)\n",
    "\n",
    "# replace \"Email Type\" with Boolean flag \"isPhising\"\n",
    "df_safe_sample = df_safe_sample.assign(isPhishing=False)\n",
    "df_safe_sample = df_safe_sample.drop('Label',axis=1)\n",
    "df_not_safe_sample = df_not_safe_sample.assign(isPhishing=True)\n",
    "df_not_safe_sample = df_not_safe_sample.drop('Label',axis=1)\n",
    "\n",
    "Concatenate the samples to create a new balanced dataset\n",
    "balanced_df = pd.concat([df_safe_sample, df_not_safe_sample])\n",
    "balanced_df.columns = ['text', 'labels']\n",
    "\n",
    "# convert labels column to int\n",
    "balanced_df['labels'] = balanced_df['labels'].astype(int)\n",
    "\n",
    "# Shuffle the balanced dataset\n",
    "balanced_df = balanced_df.sample(frac=1, random_state=42).reset_index(drop=True)\n"
   ]
  },
  {
   "cell_type": "code",
   "execution_count": 6,
   "id": "69f68554-49ad-47ff-a4ec-7605796c6ff1",
   "metadata": {},
   "outputs": [],
   "source": [
    "# Split into train, validation, and test sets (e.g., 70% train, 15% validation, 15% test)\n",
    "\n",
    "train_frac = 0.7\n",
    "valid_frac = 0.15\n",
    "test_frac = 0.15\n",
    "\n",
    "# define train and validation size\n",
    "train_size = int(train_frac * len(balanced_df))\n",
    "valid_size = int(valid_frac * len(balanced_df))\n",
    "\n",
    "# create train, validation, and test datasets\n",
    "train_df = balanced_df[:train_size]\n",
    "valid_df = balanced_df[train_size:train_size + valid_size]\n",
    "test_df = balanced_df[train_size + valid_size:]"
   ]
  },
  {
   "cell_type": "code",
   "execution_count": 7,
   "id": "d3248a7c-76f5-4c0b-8708-21e21fd012eb",
   "metadata": {},
   "outputs": [],
   "source": [
    "# export with pandas\n",
    "import pandas as pd\n",
    "train_df.to_csv(\"./data/train.csv\", index = False)\n",
    "test_df.to_csv(\"./data/test.csv\", index = False)\n",
    "valid_df.to_csv(\"./data/validation.csv\", index = False)\n",
    "\n",
    "# we can also do this with Datasets below\n",
    "# train_ds.to_csv(\"./train.csv\", index = False)\n",
    "# test_ds.to_csv(\"./test.csv\", index = False)\n",
    "# valid_ds.to_csv(\"./validation.csv\", index = False)"
   ]
  },
  {
   "cell_type": "raw",
   "id": "60ebab8f-6e68-49ce-8738-f0fe36244ba4",
   "metadata": {},
   "source": [
    "# Convert the pandas DataFrames back to Hugging Face Datasets\n",
    "train_ds = Dataset.from_pandas(train_df)\n",
    "valid_ds = Dataset.from_pandas(valid_df)\n",
    "test_ds = Dataset.from_pandas(test_df)\n",
    "\n",
    "# Combine into a DatasetDict\n",
    "dataset_dict = DatasetDict({\n",
    "    'train': train_ds,\n",
    "    'validation': valid_ds,\n",
    "    'test': test_ds\n",
    "})"
   ]
  },
  {
   "cell_type": "raw",
   "id": "cdfa9917-2abc-4110-ae36-93984a28f6c8",
   "metadata": {},
   "source": [
    "dataset_dict"
   ]
  },
  {
   "cell_type": "raw",
   "id": "57da586f-036d-4995-ac40-35dbce6087ff",
   "metadata": {},
   "source": [
    "# push data to hub\n",
    "dataset_dict.push_to_hub(\"shawhin/phishing-site-classification\")"
   ]
  }
 ],
 "metadata": {
  "kernelspec": {
   "display_name": "Python 3 (ipykernel)",
   "language": "python",
   "name": "python3"
  },
  "language_info": {
   "codemirror_mode": {
    "name": "ipython",
    "version": 3
   },
   "file_extension": ".py",
   "mimetype": "text/x-python",
   "name": "python",
   "nbconvert_exporter": "python",
   "pygments_lexer": "ipython3",
   "version": "3.10.16"
  }
 },
 "nbformat": 4,
 "nbformat_minor": 5
}
