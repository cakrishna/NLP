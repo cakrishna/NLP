{
 "cells": [
  {
   "cell_type": "markdown",
   "id": "fb0bb942-deb3-404a-af98-ee4d56eb9887",
   "metadata": {},
   "source": [
    "# Testing Model with user input"
   ]
  },
  {
   "cell_type": "code",
   "execution_count": 1,
   "id": "c776a3a5-135c-4ea6-90b9-511b48cee602",
   "metadata": {},
   "outputs": [],
   "source": [
    "import torch\n",
    "# device = torch.device('cuda') if torch.cuda.is_available() else torch.device('cpu')\n"
   ]
  },
  {
   "cell_type": "code",
   "execution_count": 2,
   "id": "5f8798c3-93d4-4a60-bd1a-1b32ae7e4d17",
   "metadata": {},
   "outputs": [
    {
     "name": "stderr",
     "output_type": "stream",
     "text": [
      "/home/aks/miniconda3/envs/nlp/lib/python3.10/site-packages/tqdm/auto.py:21: TqdmWarning: IProgress not found. Please update jupyter and ipywidgets. See https://ipywidgets.readthedocs.io/en/stable/user_install.html\n",
      "  from .autonotebook import tqdm as notebook_tqdm\n"
     ]
    }
   ],
   "source": [
    "# load model\n",
    "from transformers import AutoTokenizer, AutoModelForSequenceClassification\n",
    "model_name = 'bert-classifier_tweets'\n",
    "tok = AutoTokenizer.from_pretrained(model_name)\n",
    "mod = AutoModelForSequenceClassification.from_pretrained(model_name)"
   ]
  },
  {
   "cell_type": "markdown",
   "id": "cd278dd3-3131-40f9-8953-214dfe5ffe7e",
   "metadata": {},
   "source": [
    "## 01) Using transformers pipeline"
   ]
  },
  {
   "cell_type": "raw",
   "id": "c2581506-ca09-4dd8-a09e-6d896b99045f",
   "metadata": {},
   "source": [
    "# sentiment analysis with the pipeline\n",
    "from transformers import pipeline\n",
    "\n",
    "# sentiment_pipeline = pipeline(\"sentiment-analysis\")\n",
    "\n",
    "# data = ['i love you', 'i hate you']\n",
    "# sentiment_pipeline(data)"
   ]
  },
  {
   "cell_type": "raw",
   "id": "e23f1685-6f82-4aba-8139-3af87d6e5abe",
   "metadata": {},
   "source": [
    "# negative tweet\n",
    "text0 = \"hate the airline\"\n",
    "pipe = pipeline('text-classification', model=mod, tokenizer=tok)\n",
    "pipe(text0)"
   ]
  },
  {
   "cell_type": "raw",
   "id": "1e7e3bf5-fed4-4571-afa8-55914b61e03a",
   "metadata": {},
   "source": [
    "# neutral tweet\n",
    "text1 = \"virginamerica dhepburn say\"\n",
    "pipe = pipeline('text-classification', model=mod, tokenizer=tok)\n",
    "pipe(text1)"
   ]
  },
  {
   "cell_type": "raw",
   "id": "3b1ff244-e4ea-4d03-8c1a-a6db790beb40",
   "metadata": {},
   "source": [
    "# positive tweet\n",
    "text2 = \"virginamerica plus add commercial experience tacky\"\n",
    "pipe = pipeline('text-classification', model=mod, tokenizer=tok)\n",
    "pipe(text2)"
   ]
  },
  {
   "cell_type": "markdown",
   "id": "d2913274-48ca-4be7-89af-f22f2d9ffec9",
   "metadata": {},
   "source": [
    "## 02) Using pytorch"
   ]
  },
  {
   "cell_type": "code",
   "execution_count": 3,
   "id": "eb02872f-a4f3-4579-85a9-46474799c1ff",
   "metadata": {},
   "outputs": [],
   "source": [
    "def get_prediction(text):\n",
    "    label2id = {'negative': 0, 'neutral': 1, 'positive': 2}\n",
    "    id2label = {0: 'negative', 1: 'neutral', 2: 'positive'}\n",
    "    input_ids = tok.encode(text, return_tensors='pt')\n",
    "    output = mod(input_ids)\n",
    "    preds = torch.nn.functional.softmax(output.logits, dim=-1)\n",
    "    prob = torch.max(preds).item()\n",
    "    idx = torch.argmax(preds).item()\n",
    "    sentiment = id2label[idx]\n",
    "    return {'sentiment':sentiment, 'prob':prob}"
   ]
  },
  {
   "cell_type": "code",
   "execution_count": 4,
   "id": "b6334f6b-1c6a-45ce-8f51-af840ee5eafb",
   "metadata": {},
   "outputs": [
    {
     "data": {
      "text/plain": [
       "{'sentiment': 'negative', 'prob': 0.8038828372955322}"
      ]
     },
     "execution_count": 4,
     "metadata": {},
     "output_type": "execute_result"
    }
   ],
   "source": [
    "# negative tweet\n",
    "text = \"hate the airline\"\n",
    "get_prediction(text)"
   ]
  },
  {
   "cell_type": "code",
   "execution_count": 5,
   "id": "d4040786-af71-4e9d-8617-0fe7e45aaea4",
   "metadata": {},
   "outputs": [
    {
     "data": {
      "text/plain": [
       "{'sentiment': 'neutral', 'prob': 0.8624101877212524}"
      ]
     },
     "execution_count": 5,
     "metadata": {},
     "output_type": "execute_result"
    }
   ],
   "source": [
    "# neutral tweet\n",
    "text = \"virginamerica dhepburn say\"\n",
    "get_prediction(text)"
   ]
  },
  {
   "cell_type": "code",
   "execution_count": 6,
   "id": "6e5a91f3-45de-48da-a41b-a135ecb3820f",
   "metadata": {},
   "outputs": [
    {
     "data": {
      "text/plain": [
       "{'sentiment': 'positive', 'prob': 0.8759210109710693}"
      ]
     },
     "execution_count": 6,
     "metadata": {},
     "output_type": "execute_result"
    }
   ],
   "source": [
    "# positive tweet\n",
    "text = \"virginamerica plus add commercial experience tacky\"\n",
    "get_prediction(text)"
   ]
  },
  {
   "cell_type": "code",
   "execution_count": null,
   "id": "2f4c6e64-812a-4122-903a-9c342ff255ae",
   "metadata": {},
   "outputs": [],
   "source": []
  }
 ],
 "metadata": {
  "kernelspec": {
   "display_name": "Python 3 (ipykernel)",
   "language": "python",
   "name": "python3"
  },
  "language_info": {
   "codemirror_mode": {
    "name": "ipython",
    "version": 3
   },
   "file_extension": ".py",
   "mimetype": "text/x-python",
   "name": "python",
   "nbconvert_exporter": "python",
   "pygments_lexer": "ipython3",
   "version": "3.10.16"
  }
 },
 "nbformat": 4,
 "nbformat_minor": 5
}
