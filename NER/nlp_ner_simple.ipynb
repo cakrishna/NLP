{
 "cells": [
  {
   "cell_type": "markdown",
   "metadata": {},
   "source": [
    "## Implementing Named Entity Recognition (NER) with NLTK in Python"
   ]
  },
  {
   "cell_type": "markdown",
   "metadata": {},
   "source": [
    "### Example 1"
   ]
  },
  {
   "cell_type": "code",
   "execution_count": null,
   "metadata": {},
   "outputs": [],
   "source": [
    "# import nltk\n",
    "\n",
    "import nltk\n",
    "nltk.download('punkt')\n",
    "nltk.download('maxent_ne_chunker')\n",
    "nltk.download('words')\n",
    "nltk.download('averaged_perceptron_tagger')\n",
    "\n",
    "# Tokenization with NLTK\n",
    "\n",
    "from nltk.tokenize import word_tokenize\n",
    "text = \"Named Entity Recognition is a fascinating field in Natural Language Processing.\"\n",
    "tokens = word_tokenize(text)\n",
    "print(tokens)\n",
    "\n",
    "# Named Entity Recognition with NLTK\n",
    "\n",
    "from nltk import pos_tag, ne_chunk\n",
    "tagged_words = pos_tag(tokens)\n",
    "named_entities = ne_chunk(tagged_words)\n",
    "print(named_entities)\n"
   ]
  },
  {
   "cell_type": "markdown",
   "metadata": {},
   "source": [
    "### Example 2\n",
    "- Let’s consider an example to illustrate how NLTK performs NER:"
   ]
  },
  {
   "cell_type": "code",
   "execution_count": null,
   "metadata": {},
   "outputs": [],
   "source": [
    "# imprt nltk\n",
    "\n",
    "import nltk\n",
    "from nltk.tokenize import word_tokenize\n",
    "from nltk import pos_tag, ne_chunk\n",
    "\n",
    "# sample text\n",
    "text = \"Sushan Kattel published this article on Dec 1, 2023.\"\n",
    "\n",
    "# Tokenization with NLTK\n",
    "tokens = word_tokenize(text)\n",
    "print(f'Word Tokens: {tokens}')\n",
    "\n",
    "# Named Entity Recognition with NLTK\n",
    "tagged_words = pos_tag(tokens)\n",
    "print(f'Tagged Words: {tagged_words}')\n",
    "named_entities = ne_chunk(tagged_words)\n",
    "print(f'Named Entities: {named_entities}')"
   ]
  },
  {
   "cell_type": "markdown",
   "metadata": {},
   "source": []
  },
  {
   "cell_type": "code",
   "execution_count": null,
   "metadata": {},
   "outputs": [],
   "source": []
  }
 ],
 "metadata": {
  "language_info": {
   "name": "python"
  }
 },
 "nbformat": 4,
 "nbformat_minor": 2
}
